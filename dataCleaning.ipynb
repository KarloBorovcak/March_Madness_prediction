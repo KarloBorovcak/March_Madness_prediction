{
 "cells": [
  {
   "cell_type": "code",
   "execution_count": 22,
   "metadata": {},
   "outputs": [],
   "source": [
    "import pandas as pd\n"
   ]
  },
  {
   "cell_type": "code",
   "execution_count": 23,
   "metadata": {},
   "outputs": [
    {
     "name": "stdout",
     "output_type": "stream",
     "text": [
      "Rk\n",
      "School\n",
      "G\n",
      "Overall.W\n",
      "Overall.L\n",
      "W-L%\n",
      "SRS\n",
      "SOS\n",
      "Conf.W\n",
      "Conf.L\n",
      "Home.W\n",
      "Home.L\n",
      "Away.W\n",
      "Away.L\n",
      "Tm.\n",
      "Opp.\n",
      "MP\n",
      "FG\n",
      "FGA\n",
      "FG%\n",
      "3P\n",
      "3PA\n",
      "3P%\n",
      "FT\n",
      "FTA\n",
      "FT%\n",
      "ORB\n",
      "TRB\n",
      "AST\n",
      "STL\n",
      "BLK\n",
      "TOV\n",
      "PF\n",
      "Pace\n",
      "ORtg\n",
      "FTr\n",
      "3PAr\n",
      "TS%\n",
      "TRB%\n",
      "AST%\n",
      "STL%\n",
      "BLK%\n",
      "eFG%\n",
      "TOV%\n",
      "ORB%\n",
      "FT/FGA\n"
     ]
    }
   ],
   "source": [
    "data1 = pd.read_csv('./data/2013-school-stats.csv')\n",
    "df = pd.read_csv('./data/2013-advanced-school-stats.csv')\n",
    "\n",
    "lista = [data1, df]\n",
    "\n",
    "for i,data in enumerate(lista):\n",
    "    data.columns = data.iloc[0]\n",
    "    data = data.iloc[1:,:]\n",
    "    data = data.dropna(axis=1, how='all')\n",
    "\n",
    "    data.columns.values[3:5] = [\"Overall.W\",\"Overall.L\"]\n",
    "    data.columns.values[8:10] = [\"Conf.W\",\"Conf.L\"]\n",
    "    data.columns.values[10:12] = [\"Home.W\",\"Home.L\"]\n",
    "    data.columns.values[12:14] = [\"Away.W\",\"Away.L\"]\n",
    "    lista[i] = data\n",
    "\n",
    "\n",
    "data = pd.merge(lista[0], lista[1], how=\"outer\", on=list(lista[0].columns.values[:16]))\n",
    "\n",
    "#data.head()\n",
    "for col in data.columns:\n",
    "    print(col)"
   ]
  },
  {
   "cell_type": "code",
   "execution_count": null,
   "metadata": {},
   "outputs": [],
   "source": []
  }
 ],
 "metadata": {
  "kernelspec": {
   "display_name": "Python 3.10.7 64-bit",
   "language": "python",
   "name": "python3"
  },
  "language_info": {
   "codemirror_mode": {
    "name": "ipython",
    "version": 3
   },
   "file_extension": ".py",
   "mimetype": "text/x-python",
   "name": "python",
   "nbconvert_exporter": "python",
   "pygments_lexer": "ipython3",
   "version": "3.10.7"
  },
  "orig_nbformat": 4,
  "vscode": {
   "interpreter": {
    "hash": "6361a9a073a2564ceaca5b7a897782d494791772eabc03bbeceb61e708bf820f"
   }
  }
 },
 "nbformat": 4,
 "nbformat_minor": 2
}
