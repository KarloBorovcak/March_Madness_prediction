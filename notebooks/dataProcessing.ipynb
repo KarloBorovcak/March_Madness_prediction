{
 "cells": [
  {
   "cell_type": "code",
   "execution_count": 2,
   "metadata": {},
   "outputs": [],
   "source": [
    "import pandas as pd\n",
    "import os"
   ]
  },
  {
   "cell_type": "code",
   "execution_count": 3,
   "metadata": {},
   "outputs": [],
   "source": [
    "\n",
    "\n",
    "\n",
    "# path = '../data/teamSeedsProc/'\n",
    "# dir_list = os.listdir(path)\n",
    "# df_list = []\n",
    "\n",
    "# for i,csv in enumerate(dir_list):\n",
    "#     df_list.append(pd.read_csv(path + csv))\n",
    "#     df_list[i].fillna('NA', inplace=True)\n",
    "\n",
    "\n",
    "# playoff = set(df_list[0].loc[df_list[0].SEED != 'NA', 'TEAM'])\n",
    "\n",
    "# for i in range(1,len(dir_list)):\n",
    "#     if i != 6:\n",
    "#         playoff.update(set(df_list[i].loc[df_list[i].SEED != 'NA', 'TEAM']))\n",
    "\n",
    "# playoff.difference(set(df2.loc[df_list[i].TEAM.isin(playoff),'TEAM']))\n",
    "\n",
    "\n",
    "path = '../data/final/'\n",
    "path2 = '../data/perGameStats/'\n",
    "dir_list = os.listdir(path)\n",
    "df_list = []\n",
    "\n",
    "for i,csv in enumerate(dir_list):\n",
    "    df_list.append(pd.read_csv(path + csv))\n",
    "\n",
    "\n",
    "for i,csv in enumerate(dir_list):\n",
    "    df_list[i].insert(25,'DRB',df_list[i]['TRB']-df_list[i]['ORB'])\n",
    "    for j in range(13,33):\n",
    "        if j not in [15,18,21,24]:\n",
    "            df_list[i].iloc[:,j] = df_list[i].iloc[:,j] / df_list[i].G \n",
    "\n",
    "    df_list[i].to_csv(path2 + csv, index=False) \n",
    " \n",
    "\n",
    "\n",
    "\n",
    "\n",
    "\n",
    "# df = pd.concat(df_list)\n",
    "\n",
    "# df.to_csv(path2 + 'combined.csv', index=False)\n"
   ]
  }
 ],
 "metadata": {
  "kernelspec": {
   "display_name": "Python 3.10.7 64-bit",
   "language": "python",
   "name": "python3"
  },
  "language_info": {
   "codemirror_mode": {
    "name": "ipython",
    "version": 3
   },
   "file_extension": ".py",
   "mimetype": "text/x-python",
   "name": "python",
   "nbconvert_exporter": "python",
   "pygments_lexer": "ipython3",
   "version": "3.10.7"
  },
  "orig_nbformat": 4,
  "vscode": {
   "interpreter": {
    "hash": "6361a9a073a2564ceaca5b7a897782d494791772eabc03bbeceb61e708bf820f"
   }
  }
 },
 "nbformat": 4,
 "nbformat_minor": 2
}
