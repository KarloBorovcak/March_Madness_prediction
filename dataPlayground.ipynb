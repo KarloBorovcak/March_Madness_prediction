{
 "cells": [
  {
   "cell_type": "code",
   "execution_count": 2,
   "metadata": {},
   "outputs": [],
   "source": [
    "import pandas as pd\n",
    "import os"
   ]
  },
  {
   "cell_type": "code",
   "execution_count": 5,
   "metadata": {},
   "outputs": [
    {
     "name": "stdout",
     "output_type": "stream",
     "text": [
      "68\n",
      "68\n",
      "68\n",
      "68\n",
      "68\n",
      "68\n",
      "68\n"
     ]
    }
   ],
   "source": [
    "df = pd.read_csv('./data/cleanTeamStats/2021-school-stats.csv')\n",
    "df2 = pd.read_csv('./data/teamSeedsProc/cbb21.csv')\n",
    "\n",
    "\n",
    "# path = './data/teamSeedsProc/'\n",
    "# dir_list = os.listdir(path)\n",
    "# df_list = []\n",
    "\n",
    "# for i,csv in enumerate(dir_list):\n",
    "#     df_list.append(pd.read_csv(path + csv))\n",
    "#     df_list[i].fillna('NA', inplace=True)\n",
    "\n",
    "\n",
    "# playoff = set(df_list[0].loc[df_list[0].SEED != 'NA', 'TEAM'])\n",
    "\n",
    "# for i in range(1,len(dir_list)):\n",
    "#     if i != 6:\n",
    "#         playoff.update(set(df_list[i].loc[df_list[i].SEED != 'NA', 'TEAM']))\n",
    "\n",
    "# playoff.difference(set(df2.loc[df_list[i].TEAM.isin(playoff),'TEAM']))\n",
    "\n",
    "\n",
    "path = './data/statsAndSeeds/'\n",
    "dir_list = os.listdir(path)\n",
    "df_list = []\n",
    "\n",
    "for i,csv in enumerate(dir_list):\n",
    "    df_list.append(pd.read_csv(path + csv))\n",
    "    df_list[i].fillna('NA', inplace=True)\n",
    "\n",
    "for i in range(len(df_list)):\n",
    "    if i != 6:\n",
    "        print(len(df_list[i].loc[df_list[i].SEED != 'NA']))\n",
    "\n"
   ]
  }
 ],
 "metadata": {
  "kernelspec": {
   "display_name": "Python 3.10.7 64-bit",
   "language": "python",
   "name": "python3"
  },
  "language_info": {
   "codemirror_mode": {
    "name": "ipython",
    "version": 3
   },
   "file_extension": ".py",
   "mimetype": "text/x-python",
   "name": "python",
   "nbconvert_exporter": "python",
   "pygments_lexer": "ipython3",
   "version": "3.10.7 (tags/v3.10.7:6cc6b13, Sep  5 2022, 14:08:36) [MSC v.1933 64 bit (AMD64)]"
  },
  "orig_nbformat": 4,
  "vscode": {
   "interpreter": {
    "hash": "6361a9a073a2564ceaca5b7a897782d494791772eabc03bbeceb61e708bf820f"
   }
  }
 },
 "nbformat": 4,
 "nbformat_minor": 2
}
