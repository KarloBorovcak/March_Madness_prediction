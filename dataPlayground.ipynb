{
 "cells": [
  {
   "cell_type": "code",
   "execution_count": 36,
   "metadata": {},
   "outputs": [],
   "source": [
    "import pandas as pd\n",
    "import os"
   ]
  },
  {
   "cell_type": "code",
   "execution_count": 53,
   "metadata": {},
   "outputs": [
    {
     "name": "stdout",
     "output_type": "stream",
     "text": [
      "200\n",
      "202\n",
      "202\n",
      "202\n",
      "202\n",
      "202\n",
      "202\n",
      "202\n",
      "202\n",
      "202\n"
     ]
    }
   ],
   "source": [
    "# df = pd.read_csv('./data/cleanTeamStats/2013-school-stats.csv')\n",
    "# df2 = pd.read_csv('./data/teamSeedsProc/cbb13.csv')\n",
    "\n",
    "\n",
    "\n",
    "\n",
    "\n",
    "\n"
   ]
  }
 ],
 "metadata": {
  "kernelspec": {
   "display_name": "Python 3.10.7 64-bit",
   "language": "python",
   "name": "python3"
  },
  "language_info": {
   "codemirror_mode": {
    "name": "ipython",
    "version": 3
   },
   "file_extension": ".py",
   "mimetype": "text/x-python",
   "name": "python",
   "nbconvert_exporter": "python",
   "pygments_lexer": "ipython3",
   "version": "3.10.7"
  },
  "orig_nbformat": 4,
  "vscode": {
   "interpreter": {
    "hash": "6361a9a073a2564ceaca5b7a897782d494791772eabc03bbeceb61e708bf820f"
   }
  }
 },
 "nbformat": 4,
 "nbformat_minor": 2
}
