{
 "cells": [
  {
   "cell_type": "code",
   "execution_count": 34,
   "metadata": {},
   "outputs": [],
   "source": [
    "import pandas as pd\n",
    "import os"
   ]
  },
  {
   "cell_type": "code",
   "execution_count": 35,
   "metadata": {},
   "outputs": [
    {
     "name": "stdout",
     "output_type": "stream",
     "text": [
      "351\n",
      "193\n",
      "351\n",
      "351\n",
      "351\n",
      "351\n",
      "351\n",
      "353\n",
      "353\n",
      "355\n"
     ]
    }
   ],
   "source": [
    "\n",
    "\n",
    "\n",
    "# path = './data/teamSeedsProc/'\n",
    "# dir_list = os.listdir(path)\n",
    "# df_list = []\n",
    "\n",
    "# for i,csv in enumerate(dir_list):\n",
    "#     df_list.append(pd.read_csv(path + csv))\n",
    "#     df_list[i].fillna('NA', inplace=True)\n",
    "\n",
    "\n",
    "# playoff = set(df_list[0].loc[df_list[0].SEED != 'NA', 'TEAM'])\n",
    "\n",
    "# for i in range(1,len(dir_list)):\n",
    "#     if i != 6:\n",
    "#         playoff.update(set(df_list[i].loc[df_list[i].SEED != 'NA', 'TEAM']))\n",
    "\n",
    "# playoff.difference(set(df2.loc[df_list[i].TEAM.isin(playoff),'TEAM']))\n",
    "\n",
    "\n",
    "path = './data/safe/'\n",
    "path2 = './data/cleanTeamStats/'\n",
    "dir_list = os.listdir(path)\n",
    "dir_list2 = os.listdir(path2)\n",
    "df_list = []\n",
    "df_list2 = []\n",
    "\n",
    "for i,csv in enumerate(dir_list):\n",
    "    df_list.append(pd.read_csv(path + csv))\n",
    "\n",
    "for i,csv in enumerate(dir_list2):\n",
    "    df_list2.append(pd.read_csv(path2 + csv))\n",
    "\n",
    "print(len(df_list2[0]))\n",
    "print(len(df_list[0]))\n",
    "\n",
    "for i in range(len(df_list)-1):\n",
    "    df_list[i] = pd.merge(df_list[i], df_list2[i], how='outer')\n",
    "    df_list[i].fillna('NA', inplace=True)\n",
    "    df_list[i].dropna(inplace=True)\n",
    "    df_list[i].to_csv('./data/allTeams/' + dir_list[i], index=False)\n",
    "    print(len(df_list[i]))\n",
    "\n",
    "\n",
    "\n",
    "# for i in range(len(df_list)):\n",
    "#     if i != 6:\n",
    "#         print('Broj SEEDOVA: ', len(df_list[i].loc[df_list[i].SEED != 'NA']))\n",
    "#         print('Broj EXITA: ', len(df_list[i].loc[df_list[i].POSTSEASON != 'NA']))\n",
    "#         print('Broj REGIONA: ', len(df_list[i].loc[df_list[i].REGION != 'NA']))\n",
    "\n",
    "\n",
    "for i in range(len(dir_list)-1):\n",
    "    df_list[i]['YEAR'] = int(dir_list[i][:4])\n",
    "\n",
    "df = pd.concat(df_list[:-1])\n",
    "\n",
    "df.to_csv('./data/allTeams/combined.csv', index=False)\n"
   ]
  }
 ],
 "metadata": {
  "kernelspec": {
   "display_name": "Python 3.10.7 64-bit",
   "language": "python",
   "name": "python3"
  },
  "language_info": {
   "codemirror_mode": {
    "name": "ipython",
    "version": 3
   },
   "file_extension": ".py",
   "mimetype": "text/x-python",
   "name": "python",
   "nbconvert_exporter": "python",
   "pygments_lexer": "ipython3",
   "version": "3.10.7"
  },
  "orig_nbformat": 4,
  "vscode": {
   "interpreter": {
    "hash": "6361a9a073a2564ceaca5b7a897782d494791772eabc03bbeceb61e708bf820f"
   }
  }
 },
 "nbformat": 4,
 "nbformat_minor": 2
}
