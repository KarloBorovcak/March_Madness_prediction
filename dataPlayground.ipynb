{
 "cells": [
  {
   "cell_type": "code",
   "execution_count": 1,
   "metadata": {},
   "outputs": [],
   "source": [
    "import pandas as pd"
   ]
  },
  {
   "cell_type": "code",
   "execution_count": 4,
   "metadata": {},
   "outputs": [
    {
     "name": "stdout",
     "output_type": "stream",
     "text": [
      "Unnamed: 0\n",
      "Rk\n",
      "School\n",
      "G\n",
      "Overall.W\n",
      "Overall.L\n",
      "W-L%\n",
      "SRS\n",
      "SOS\n",
      "Conf.W\n",
      "Conf.L\n",
      "Home.W\n",
      "Home.L\n",
      "Away.W\n",
      "Away.L\n",
      "Tm.\n",
      "Opp.\n",
      "MP\n",
      "FG\n",
      "FGA\n",
      "FG%\n",
      "3P\n",
      "3PA\n",
      "3P%\n",
      "FT\n",
      "FTA\n",
      "FT%\n",
      "ORB\n",
      "TRB\n",
      "AST\n",
      "STL\n",
      "BLK\n",
      "TOV\n",
      "PF\n",
      "Pace\n",
      "ORtg\n",
      "FTr\n",
      "3PAr\n",
      "TS%\n",
      "TRB%\n",
      "AST%\n",
      "STL%\n",
      "BLK%\n",
      "eFG%\n",
      "TOV%\n",
      "ORB%\n",
      "FT/FGA\n"
     ]
    }
   ],
   "source": [
    "df = pd.read_csv('./data/cleanTeamStats/2013-school-stats.csv')\n",
    "\n",
    "for column in df.columns:\n",
    "    print(column)"
   ]
  }
 ],
 "metadata": {
  "kernelspec": {
   "display_name": "Python 3.10.7 64-bit",
   "language": "python",
   "name": "python3"
  },
  "language_info": {
   "codemirror_mode": {
    "name": "ipython",
    "version": 3
   },
   "file_extension": ".py",
   "mimetype": "text/x-python",
   "name": "python",
   "nbconvert_exporter": "python",
   "pygments_lexer": "ipython3",
   "version": "3.10.7"
  },
  "orig_nbformat": 4,
  "vscode": {
   "interpreter": {
    "hash": "6361a9a073a2564ceaca5b7a897782d494791772eabc03bbeceb61e708bf820f"
   }
  }
 },
 "nbformat": 4,
 "nbformat_minor": 2
}
